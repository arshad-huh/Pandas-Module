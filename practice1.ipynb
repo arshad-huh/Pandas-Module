{
  "nbformat": 4,
  "nbformat_minor": 0,
  "metadata": {
    "colab": {
      "provenance": [],
      "include_colab_link": true
    },
    "kernelspec": {
      "name": "python3",
      "display_name": "Python 3"
    },
    "language_info": {
      "name": "python"
    }
  },
  "cells": [
    {
      "cell_type": "markdown",
      "metadata": {
        "id": "view-in-github",
        "colab_type": "text"
      },
      "source": [
        "<a href=\"https://colab.research.google.com/github/arshad-huh/Pandas-Module/blob/main/practice1.ipynb\" target=\"_parent\"><img src=\"https://colab.research.google.com/assets/colab-badge.svg\" alt=\"Open In Colab\"/></a>"
      ]
    },
    {
      "cell_type": "code",
      "execution_count": 1,
      "metadata": {
        "id": "zxrbXftDYalU"
      },
      "outputs": [],
      "source": [
        "import numpy as np\n",
        "import pandas as pd"
      ]
    },
    {
      "cell_type": "markdown",
      "source": [
        "###`Q-1:` Write a program to create an empty series."
      ],
      "metadata": {
        "id": "MetYTZJpYfdz"
      }
    },
    {
      "cell_type": "code",
      "source": [
        "empty_series = pd.Series()\n",
        "print(empty_series)"
      ],
      "metadata": {
        "id": "KUcgT935YgC5",
        "outputId": "5b20c4e6-e05f-49e2-d9f2-cae5fb756db9",
        "colab": {
          "base_uri": "https://localhost:8080/"
        }
      },
      "execution_count": 3,
      "outputs": [
        {
          "output_type": "stream",
          "name": "stdout",
          "text": [
            "Series([], dtype: float64)\n"
          ]
        },
        {
          "output_type": "stream",
          "name": "stderr",
          "text": [
            "<ipython-input-3-ed063bcaa391>:1: FutureWarning: The default dtype for empty Series will be 'object' instead of 'float64' in a future version. Specify a dtype explicitly to silence this warning.\n",
            "  empty_series = pd.Series()\n"
          ]
        }
      ]
    },
    {
      "cell_type": "markdown",
      "source": [
        "###`Q-2:` Write a Pandas program to add, subtract, multiple and divide two Pandas Series."
      ],
      "metadata": {
        "id": "jw5ybzU6YhOo"
      }
    },
    {
      "cell_type": "code",
      "source": [
        "# creating two pandas series\n",
        "series1 = pd.Series([1, 2, 3, 4, 5, 6])\n",
        "series2 = pd.Series([5, 6, 7, 8, 9, 10])\n",
        "print(f\"Series 1:\\n{series1}\")\n",
        "print(f\"Series 2:\\n{series2}\")\n",
        "\n",
        "# Addition\n",
        "add_result = series1 + series2\n",
        "print(f\"Addition Result:\\n{add_result}\")\n",
        "\n",
        "# Subtraction\n",
        "sub_result = series1 - series2\n",
        "print(f\"Subtraction Result:\\n{sub_result}\")\n",
        "\n",
        "# Multiplication\n",
        "mul_result = series1 * series2\n",
        "print(f\"Multiplication Result:\\n{mul_result}\")\n",
        "\n",
        "# Division\n",
        "div_result = series1 / series2\n",
        "print(f\"Division Result:\\n{div_result}\")"
      ],
      "metadata": {
        "id": "EF3GgVFjYjwG",
        "outputId": "3002c959-2b0a-46be-9d9b-62a52a60b887",
        "colab": {
          "base_uri": "https://localhost:8080/"
        }
      },
      "execution_count": 8,
      "outputs": [
        {
          "output_type": "stream",
          "name": "stdout",
          "text": [
            "Series 1:\n",
            "0    1\n",
            "1    2\n",
            "2    3\n",
            "3    4\n",
            "4    5\n",
            "5    6\n",
            "dtype: int64\n",
            "Series 2:\n",
            "0     5\n",
            "1     6\n",
            "2     7\n",
            "3     8\n",
            "4     9\n",
            "5    10\n",
            "dtype: int64\n",
            "Addition Result:\n",
            "0     6\n",
            "1     8\n",
            "2    10\n",
            "3    12\n",
            "4    14\n",
            "5    16\n",
            "dtype: int64\n",
            "Subtraction Result:\n",
            "0   -4\n",
            "1   -4\n",
            "2   -4\n",
            "3   -4\n",
            "4   -4\n",
            "5   -4\n",
            "dtype: int64\n",
            "Multiplication Result:\n",
            "0     5\n",
            "1    12\n",
            "2    21\n",
            "3    32\n",
            "4    45\n",
            "5    60\n",
            "dtype: int64\n",
            "Division Result:\n",
            "0    0.200000\n",
            "1    0.333333\n",
            "2    0.428571\n",
            "3    0.500000\n",
            "4    0.555556\n",
            "5    0.600000\n",
            "dtype: float64\n"
          ]
        }
      ]
    },
    {
      "cell_type": "markdown",
      "source": [
        "###`Q-3` Write a Pandas program to compare the elements of the two Pandas Series.\n",
        "Sample Series: [2, 4, 6, 8, 10], [1, 3, 5, 7, 10]\n",
        "\n"
      ],
      "metadata": {
        "id": "TZDp25jeYlB6"
      }
    },
    {
      "cell_type": "code",
      "source": [
        "series1 = pd.Series([1, 2, 3, 4])\n",
        "series2 = pd.Series([5, 2, 7, 8])\n",
        "\n",
        "# Equality comparison\n",
        "equality_result = series1 == series2\n",
        "print(\"Equality Comparison Result:\")\n",
        "print(equality_result)\n",
        "\n",
        "# Greater than comparison\n",
        "greater_than_result = series1 > series2\n",
        "print(\"\\nGreater Than Comparison Result:\")\n",
        "print(greater_than_result)\n",
        "\n",
        "# Less than comparison\n",
        "less_than_result = series1 < series2\n",
        "print(\"\\nLess Than Comparison Result:\")\n",
        "print(less_than_result)"
      ],
      "metadata": {
        "id": "gFNil8ruYp1y",
        "outputId": "2a354fc2-2432-4b80-965f-fc9c2d45980d",
        "colab": {
          "base_uri": "https://localhost:8080/"
        }
      },
      "execution_count": 98,
      "outputs": [
        {
          "output_type": "stream",
          "name": "stdout",
          "text": [
            "Equality Comparison Result:\n",
            "0    False\n",
            "1     True\n",
            "2    False\n",
            "3    False\n",
            "dtype: bool\n",
            "\n",
            "Greater Than Comparison Result:\n",
            "0    False\n",
            "1    False\n",
            "2    False\n",
            "3    False\n",
            "dtype: bool\n",
            "\n",
            "Less Than Comparison Result:\n",
            "0     True\n",
            "1    False\n",
            "2     True\n",
            "3     True\n",
            "dtype: bool\n"
          ]
        }
      ]
    },
    {
      "cell_type": "markdown",
      "source": [
        "###`Q-5.`Write a function to change the data type of given a column or a Series. Function takes series and data type as input, returns the converted series.\n",
        "```\n",
        "series = pd.Series([1,2,'Python', 2.0, True, 100])\n",
        "change to float type data\n",
        "```\n",
        "Note: Read about pd.to_numeric()"
      ],
      "metadata": {
        "id": "HlOBn_N6YrZz"
      }
    },
    {
      "cell_type": "code",
      "source": [
        "def change_data_type(series, target_data_type):\n",
        "    try:\n",
        "        converted_series = pd.to_numeric(series, errors='coerce', downcast=target_data_type)\n",
        "        return converted_series\n",
        "    except ValueError as e:\n",
        "        print(f\"Error: {e}\")\n",
        "        return None\n",
        "\n",
        "original_series = pd.Series([1, 2, 'Python', 2.0, True, 100])\n",
        "target_data_type = 'float'\n",
        "\n",
        "converted_series = change_data_type(original_series, target_data_type)\n",
        "print(\"Original Series:\")\n",
        "print(original_series)\n",
        "\n",
        "if converted_series is not None:\n",
        "    print(f\"\\nConverted Series (to {target_data_type}):\")\n",
        "    print(converted_series)"
      ],
      "metadata": {
        "id": "4mJrVUUr34wm",
        "outputId": "e8c1d831-fb7c-4ea8-eb34-08852dc14daa",
        "colab": {
          "base_uri": "https://localhost:8080/"
        }
      },
      "execution_count": 13,
      "outputs": [
        {
          "output_type": "stream",
          "name": "stdout",
          "text": [
            "Original Series:\n",
            "0         1\n",
            "1         2\n",
            "2    Python\n",
            "3       2.0\n",
            "4      True\n",
            "5       100\n",
            "dtype: object\n",
            "\n",
            "Converted Series (to float):\n",
            "0      1.0\n",
            "1      2.0\n",
            "2      NaN\n",
            "3      2.0\n",
            "4      1.0\n",
            "5    100.0\n",
            "dtype: float32\n"
          ]
        }
      ]
    },
    {
      "cell_type": "markdown",
      "source": [
        "Download data - https://drive.google.com/file/d/1LRhXwbEodeWXtzPhJCX0X9Lf_BECzvqb/view?usp=share_link\n",
        "All Batsman runs series in IPL 2008 to 2022.\n",
        "\n",
        "Below questions are based on this data."
      ],
      "metadata": {
        "id": "PGp3OqRIY0Va"
      }
    },
    {
      "cell_type": "code",
      "source": [
        "runs = pd.read_csv('/content/batsman_runs_series.csv', index_col=\"batter\", squeeze=True)\n",
        "print(runs)"
      ],
      "metadata": {
        "id": "TSeuZ-Kx6hJ_",
        "outputId": "5193a16a-0877-4604-d2c2-02c1f4f16dbc",
        "colab": {
          "base_uri": "https://localhost:8080/"
        }
      },
      "execution_count": 15,
      "outputs": [
        {
          "output_type": "stream",
          "name": "stdout",
          "text": [
            "batter\n",
            "A Ashish Reddy     280\n",
            "A Badoni           161\n",
            "A Chandila           4\n",
            "A Chopra            53\n",
            "A Choudhary         25\n",
            "                  ... \n",
            "Yash Dayal           0\n",
            "Yashpal Singh       47\n",
            "Younis Khan          3\n",
            "Yuvraj Singh      2754\n",
            "Z Khan             117\n",
            "Name: batsman_run, Length: 605, dtype: int64\n"
          ]
        },
        {
          "output_type": "stream",
          "name": "stderr",
          "text": [
            "<ipython-input-15-e34b9b9481f0>:1: FutureWarning: The squeeze argument has been deprecated and will be removed in a future version. Append .squeeze(\"columns\") to the call to squeeze.\n",
            "\n",
            "\n",
            "  runs = pd.read_csv('/content/batsman_runs_series.csv', index_col=\"batter\", squeeze=True)\n"
          ]
        }
      ]
    },
    {
      "cell_type": "markdown",
      "source": [
        "###`Q-6` Find top 10 most run getter from the series."
      ],
      "metadata": {
        "id": "TxFkp-L4Y23d"
      }
    },
    {
      "cell_type": "code",
      "source": [
        "top_10 = runs.sort_values(ascending=False).head(10)\n",
        "print(top_10)"
      ],
      "metadata": {
        "id": "muBgocA6Y2Bg",
        "outputId": "ee1cd18a-d040-4f9f-ba0a-17e087d6804a",
        "colab": {
          "base_uri": "https://localhost:8080/"
        }
      },
      "execution_count": 20,
      "outputs": [
        {
          "output_type": "execute_result",
          "data": {
            "text/plain": [
              "batter\n",
              "V Kohli           6634\n",
              "S Dhawan          6244\n",
              "DA Warner         5883\n",
              "RG Sharma         5881\n",
              "SK Raina          5536\n",
              "AB de Villiers    5181\n",
              "CH Gayle          4997\n",
              "MS Dhoni          4978\n",
              "RV Uthappa        4954\n",
              "KD Karthik        4377\n",
              "Name: batsman_run, dtype: int64"
            ]
          },
          "metadata": {},
          "execution_count": 20
        }
      ]
    },
    {
      "cell_type": "markdown",
      "source": [
        "###`Q-7` No of players having runs above 3000"
      ],
      "metadata": {
        "id": "GzlCFBM_Y83g"
      }
    },
    {
      "cell_type": "code",
      "source": [
        "above_3000 = runs[runs>3000]\n",
        "print(above_3000)\n",
        "\n",
        "print(\"No. of players having runs above 3000: \", above_3000.size)"
      ],
      "metadata": {
        "id": "JdNchHRWY1B-",
        "outputId": "913f2e7a-cc58-447d-a70b-1cf66b922211",
        "colab": {
          "base_uri": "https://localhost:8080/"
        }
      },
      "execution_count": 28,
      "outputs": [
        {
          "output_type": "stream",
          "name": "stdout",
          "text": [
            "batter\n",
            "AB de Villiers    5181\n",
            "AM Rahane         4074\n",
            "AT Rayudu         4190\n",
            "CH Gayle          4997\n",
            "DA Warner         5883\n",
            "F du Plessis      3403\n",
            "G Gambhir         4217\n",
            "KA Pollard        3437\n",
            "KD Karthik        4377\n",
            "KL Rahul          3895\n",
            "MK Pandey         3657\n",
            "MS Dhoni          4978\n",
            "RG Sharma         5881\n",
            "RV Uthappa        4954\n",
            "S Dhawan          6244\n",
            "SK Raina          5536\n",
            "SR Watson         3880\n",
            "SV Samson         3526\n",
            "V Kohli           6634\n",
            "YK Pathan         3222\n",
            "Name: batsman_run, dtype: int64\n",
            "No. of players having runs above 3000:  20\n"
          ]
        }
      ]
    },
    {
      "cell_type": "markdown",
      "source": [
        "###`Q-8` No of players having runs above mean value?"
      ],
      "metadata": {
        "id": "pMBEoCL1Y-vh"
      }
    },
    {
      "cell_type": "code",
      "source": [
        "mean = runs.mean()\n",
        "print(\"Mean: \", mean)\n",
        "\n",
        "above_mean = runs[runs>mean].size\n",
        "print(\"No. of players having runs above mean value: \" ,above_mean)"
      ],
      "metadata": {
        "id": "LgtViVFZZBIu",
        "outputId": "0d1f1f2a-eb7b-4dc6-bad8-9f3fe1771720",
        "colab": {
          "base_uri": "https://localhost:8080/"
        }
      },
      "execution_count": 27,
      "outputs": [
        {
          "output_type": "stream",
          "name": "stdout",
          "text": [
            "Mean:  464.42809917355373\n",
            "No. of players having runs above mean value:  128\n"
          ]
        }
      ]
    },
    {
      "cell_type": "markdown",
      "source": [
        "Download data - https://drive.google.com/file/d/1QZuZ5bypUInfVvarHACLAi8tXXHvb8xd/view?usp=share_link\n",
        "\n",
        "file name - items.csv\n",
        "\n"
      ],
      "metadata": {
        "id": "OAB1CgdgZEqE"
      }
    },
    {
      "cell_type": "markdown",
      "source": [
        "###`Q-9`\n",
        "    i. Read `items.csv` making `item_name` as index.\n",
        "    ii. Show no of nan values\n",
        "    iii. Item price is given in $, so convert it to rupees without currency symbol.\n",
        "    iv. Make data type of newly made series as float.\n",
        "    v. Fill nan with mean of the series"
      ],
      "metadata": {
        "id": "1UTQQImxZGLu"
      }
    },
    {
      "cell_type": "code",
      "source": [
        "# i\n",
        "items = pd.read_csv(\"/content/items.csv\", index_col = \"item_name\", squeeze=True)\n",
        "print(items)"
      ],
      "metadata": {
        "id": "1xaWkoMJZFNK",
        "outputId": "c2549b3e-9e53-4ad4-b348-dbe1b6edf341",
        "colab": {
          "base_uri": "https://localhost:8080/"
        }
      },
      "execution_count": 63,
      "outputs": [
        {
          "output_type": "stream",
          "name": "stdout",
          "text": [
            "item_name\n",
            "Chips and Fresh Tomato Salsa              $2.39 \n",
            "Izze                                      $3.39 \n",
            "Nantucket Nectar                          $3.39 \n",
            "Chips and Tomatillo-Green Chili Salsa     $2.39 \n",
            "Chicken Bowl                             $16.98 \n",
            "                                          ...   \n",
            "Steak Burrito                            $11.75 \n",
            "Steak Burrito                            $11.75 \n",
            "Chicken Salad Bowl                       $11.25 \n",
            "Chicken Salad Bowl                        $8.75 \n",
            "Chicken Salad Bowl                        $8.75 \n",
            "Name: item_price, Length: 4622, dtype: object\n"
          ]
        },
        {
          "output_type": "stream",
          "name": "stderr",
          "text": [
            "<ipython-input-63-1635d1ba9f5c>:2: FutureWarning: The squeeze argument has been deprecated and will be removed in a future version. Append .squeeze(\"columns\") to the call to squeeze.\n",
            "\n",
            "\n",
            "  items = pd.read_csv(\"/content/items.csv\", index_col = \"item_name\", squeeze=True)\n"
          ]
        }
      ]
    },
    {
      "cell_type": "code",
      "source": [
        "# ii\n",
        "no_nan = items.isna().sum()\n",
        "print(f\"There are total {no_nan} NaN values.\")"
      ],
      "metadata": {
        "id": "n6YfaY---pty",
        "outputId": "2256b821-c1b4-42ae-987a-583d8328edb7",
        "colab": {
          "base_uri": "https://localhost:8080/"
        }
      },
      "execution_count": 64,
      "outputs": [
        {
          "output_type": "stream",
          "name": "stdout",
          "text": [
            "There are total 50 NaN values.\n"
          ]
        }
      ]
    },
    {
      "cell_type": "code",
      "source": [
        "# iii & iv\n",
        "exchange_rate = 83\n",
        "items1 = pd.to_numeric(items.str.replace(\"$\",\"\"), errors=\"coerce\")\n",
        "\n",
        "items2 = items1.apply(lambda x: x *exchange_rate)\n",
        "print(items2)"
      ],
      "metadata": {
        "id": "78hzMvhUASJn",
        "outputId": "6c288dcb-bdd8-4c29-c508-b36b9abe4d64",
        "colab": {
          "base_uri": "https://localhost:8080/"
        }
      },
      "execution_count": 67,
      "outputs": [
        {
          "output_type": "stream",
          "name": "stdout",
          "text": [
            "item_name\n",
            "Chips and Fresh Tomato Salsa              198.37\n",
            "Izze                                      281.37\n",
            "Nantucket Nectar                          281.37\n",
            "Chips and Tomatillo-Green Chili Salsa     198.37\n",
            "Chicken Bowl                             1409.34\n",
            "                                          ...   \n",
            "Steak Burrito                             975.25\n",
            "Steak Burrito                             975.25\n",
            "Chicken Salad Bowl                        933.75\n",
            "Chicken Salad Bowl                        726.25\n",
            "Chicken Salad Bowl                        726.25\n",
            "Name: item_price, Length: 4622, dtype: float64\n"
          ]
        },
        {
          "output_type": "stream",
          "name": "stderr",
          "text": [
            "<ipython-input-67-e15286e3dddf>:3: FutureWarning: The default value of regex will change from True to False in a future version. In addition, single character regular expressions will *not* be treated as literal strings when regex=True.\n",
            "  items1 = pd.to_numeric(items.str.replace(\"$\",\"\"), errors=\"coerce\")\n"
          ]
        }
      ]
    },
    {
      "cell_type": "code",
      "source": [
        "# v\n",
        "mean  = items2.mean()\n",
        "items2 = items2.fillna(mean)\n",
        "print(items2)"
      ],
      "metadata": {
        "id": "bilzghBUJj2d",
        "outputId": "e09626c3-01c9-48a5-f445-702eb967daa6",
        "colab": {
          "base_uri": "https://localhost:8080/"
        }
      },
      "execution_count": 97,
      "outputs": [
        {
          "output_type": "stream",
          "name": "stdout",
          "text": [
            "item_name\n",
            "Chips and Fresh Tomato Salsa              198.37\n",
            "Izze                                      281.37\n",
            "Nantucket Nectar                          281.37\n",
            "Chips and Tomatillo-Green Chili Salsa     198.37\n",
            "Chicken Bowl                             1409.34\n",
            "                                          ...   \n",
            "Steak Burrito                             975.25\n",
            "Steak Burrito                             975.25\n",
            "Chicken Salad Bowl                        933.75\n",
            "Chicken Salad Bowl                        726.25\n",
            "Chicken Salad Bowl                        726.25\n",
            "Name: item_price, Length: 4622, dtype: float64\n"
          ]
        }
      ]
    },
    {
      "cell_type": "markdown",
      "source": [
        "###`Q-10`:\n",
        "    i. Find mean price\n",
        "    ii. Find 30th and 6th percentile value\n",
        "    iii. Plot Histogram on price with bin size 50\n",
        "    iv. No of items price lies between [1000 to 2000]\n",
        "\n"
      ],
      "metadata": {
        "id": "UHc_4e9cZK8r"
      }
    },
    {
      "cell_type": "code",
      "source": [
        "# i\n",
        "mean = items2.mean()\n",
        "print(\"Mean price: \", mean, \"rupees\")"
      ],
      "metadata": {
        "id": "Eh3xX9FpZNmE",
        "outputId": "d44415d2-cd66-4a0d-e66a-80101a987438",
        "colab": {
          "base_uri": "https://localhost:8080/"
        }
      },
      "execution_count": 72,
      "outputs": [
        {
          "output_type": "stream",
          "name": "stdout",
          "text": [
            "Mean price:  619.4316141732284 rupees\n"
          ]
        }
      ]
    },
    {
      "cell_type": "code",
      "source": [
        "# ii\n",
        "percentile_30  = np.percentile(items2, 30)\n",
        "print(\"30th percentile: \", percentile_30, \"rupees\")\n",
        "\n",
        "percentile_6  = np.percentile(items2, 6)\n",
        "print(\"6th percentile: \", percentile_6, \"rupees\")"
      ],
      "metadata": {
        "id": "LviDclrXLjZr",
        "outputId": "c91cbe87-64fd-47cf-a937-8bc485c76aa9",
        "colab": {
          "base_uri": "https://localhost:8080/"
        }
      },
      "execution_count": 78,
      "outputs": [
        {
          "output_type": "stream",
          "name": "stdout",
          "text": [
            "30th percentile:  369.35 rupees\n",
            "6th percentile:  103.75 rupees\n"
          ]
        }
      ]
    },
    {
      "cell_type": "code",
      "source": [
        "# iii\n",
        "histogram = items2.hist(bins=50, edgecolor=\"black\")\n",
        "print(histogram)"
      ],
      "metadata": {
        "id": "E2G_EvpKM0Gt",
        "outputId": "9f4ccb93-369b-4e1a-ab1a-f4f985aaa2e1",
        "colab": {
          "base_uri": "https://localhost:8080/",
          "height": 447
        }
      },
      "execution_count": 94,
      "outputs": [
        {
          "output_type": "stream",
          "name": "stdout",
          "text": [
            "Axes(0.125,0.11;0.775x0.77)\n"
          ]
        },
        {
          "output_type": "display_data",
          "data": {
            "text/plain": [
              "<Figure size 640x480 with 1 Axes>"
            ],
            "image/png": "[encoded data removed]"
          },
          "metadata": {}
        }
      ]
    },
    {
      "cell_type": "code",
      "source": [
        "# iv\n",
        "bw_1000_2000 = items2[items2.between(1000,2000)]\n",
        "\n",
        "print(bw_1000_2000)\n",
        "print(\"No. of items lies between 1000 to 2000 rupees:\", bw_1000_2000.size)"
      ],
      "metadata": {
        "id": "jodj5kHbOBgZ",
        "outputId": "361f9a31-f3f7-40ed-aba9-9cc874375ddb",
        "colab": {
          "base_uri": "https://localhost:8080/"
        }
      },
      "execution_count": 96,
      "outputs": [
        {
          "output_type": "stream",
          "name": "stdout",
          "text": [
            "item_name\n",
            "Chicken Bowl           1409.34\n",
            "Chicken Salad Bowl     1867.50\n",
            "Steak Burrito          1492.34\n",
            "Chicken Burrito        1452.50\n",
            "Chicken Bowl           1452.50\n",
            "                        ...   \n",
            "Chicken Bowl           1867.50\n",
            "Steak Bowl             1950.50\n",
            "Chicken Bowl           1452.50\n",
            "Chips and Guacamole    1477.40\n",
            "Chicken Salad Bowl     1452.50\n",
            "Name: item_price, Length: 116, dtype: float64\n",
            "No. of items lies between 1000 to 2000 rupees: 116\n"
          ]
        }
      ]
    }
  ]
}